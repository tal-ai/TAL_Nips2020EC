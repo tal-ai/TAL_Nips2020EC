{
 "cells": [
  {
   "cell_type": "code",
   "execution_count": 1,
   "metadata": {},
   "outputs": [],
   "source": [
    "import pandas as pd\n",
    "import os\n",
    "import csv"
   ]
  },
  {
   "cell_type": "markdown",
   "metadata": {},
   "source": [
    "# 构造训练验证数据集"
   ]
  },
  {
   "cell_type": "code",
   "execution_count": 2,
   "metadata": {},
   "outputs": [],
   "source": [
    "def read_data_from_csv(filename):\n",
    "    # read the csv file\n",
    "    rows = []\n",
    "    with open(filename, 'r') as f:\n",
    "        print(\"Reading {0}\".format(filename))\n",
    "        reader = csv.reader(f, delimiter=',')\n",
    "        for row in reader:\n",
    "            rows.append(row)\n",
    "        print(\"{0} lines was read\".format(len(rows)))\n",
    "    return rows\n",
    "\n",
    "def helper(data):\n",
    "    i = 0\n",
    "    js_data = []\n",
    "    while(i+2<len(data)):\n",
    "        if(type(data[i+1])==list and type(data[i+2])==list):\n",
    "            question = [int(x) for x in data[i+1]]\n",
    "            corrects = [int(x) for x in data[i+2]]\n",
    "            example = {'questions' : question, 'corrects' : corrects}\n",
    "            js_data.append(example)\n",
    "        i += 3\n",
    "    return js_data"
   ]
  },
  {
   "cell_type": "code",
   "execution_count": 3,
   "metadata": {},
   "outputs": [],
   "source": [
    "# train_path = '/workspace/Guowei/project/nips2020/data/dkt_data/train.csv'\n",
    "# valid_path = '/workspace/Guowei/project/nips2020/data/dkt_data/valid.csv'\n",
    "# train = helper(read_data_from_csv(train_path))\n",
    "# valid = helper(read_data_from_csv(valid_path))"
   ]
  },
  {
   "cell_type": "code",
   "execution_count": 4,
   "metadata": {},
   "outputs": [],
   "source": [
    "# print(len(train), len(valid))"
   ]
  },
  {
   "cell_type": "code",
   "execution_count": 5,
   "metadata": {},
   "outputs": [],
   "source": [
    "import json\n",
    "def save_json(data, path):\n",
    "    with open(path, 'w') as handle:\n",
    "        json.dump(data, handle)\n",
    "        \n",
    "import json\n",
    "\n",
    "def load_json(path):\n",
    "    with open(path, 'r') as handle:\n",
    "        data = json.load(handle)\n",
    "    return data"
   ]
  },
  {
   "cell_type": "code",
   "execution_count": 10,
   "metadata": {},
   "outputs": [],
   "source": [
    "from train import apply_masking, preprocess_data"
   ]
  },
  {
   "cell_type": "code",
   "execution_count": 11,
   "metadata": {},
   "outputs": [],
   "source": [
    "valid_data = load_json('/workspace/Guowei/project/nips2020/data/mlm_data/v01/big/valid.json')\n",
    "usable_valid_data = preprocess_data(valid_data, max_num_steps=100, mask_token=2)"
   ]
  },
  {
   "cell_type": "code",
   "execution_count": 8,
   "metadata": {},
   "outputs": [],
   "source": [
    "import pickle\n",
    "def save_pickle(data, data_path):\n",
    "    with open(data_path, 'wb') as f:\n",
    "        pickle.dump(data, f)"
   ]
  },
  {
   "cell_type": "code",
   "execution_count": 16,
   "metadata": {},
   "outputs": [],
   "source": [
    "valid_data_path = '/workspace/Guowei/project/nips2020/data/mlm_data/v02/static_usable_valid.pkl'\n",
    "save_pickle(usable_valid_data, valid_data_path)"
   ]
  },
  {
   "cell_type": "code",
   "execution_count": null,
   "metadata": {},
   "outputs": [],
   "source": []
  },
  {
   "cell_type": "code",
   "execution_count": 12,
   "metadata": {},
   "outputs": [],
   "source": [
    "q, c, c_m, _ = usable_valid_data"
   ]
  },
  {
   "cell_type": "code",
   "execution_count": 13,
   "metadata": {},
   "outputs": [
    {
     "name": "stdout",
     "output_type": "stream",
     "text": [
      "[27531, 21376, 241, 7301, 25055, 10353, 4107, 27571, 17146, 17108, 15690, 9543, 9417, 2328, 2421, 23609, 13098, 22515, 19424, 4566, 4611, 0, 0, 0, 0, 0, 0, 0, 0, 0, 0, 0, 0, 0, 0, 0, 0, 0, 0, 0, 0, 0, 0, 0, 0, 0, 0, 0, 0, 0, 0, 0, 0, 0, 0, 0, 0, 0, 0, 0, 0, 0, 0, 0, 0, 0, 0, 0, 0, 0, 0, 0, 0, 0, 0, 0, 0, 0, 0, 0, 0, 0, 0, 0, 0, 0, 0, 0, 0, 0, 0, 0, 0, 0, 0, 0, 0, 0, 0, 0]\n"
     ]
    }
   ],
   "source": [
    "print(q[0])"
   ]
  },
  {
   "cell_type": "code",
   "execution_count": 14,
   "metadata": {},
   "outputs": [
    {
     "name": "stdout",
     "output_type": "stream",
     "text": [
      "[1, 1, 1, 0, 1, 1, 1, 0, 1, 0, 1, 0, 1, 1, 1, 1, 1, 1, 1, 1, 0, 3, 3, 3, 3, 3, 3, 3, 3, 3, 3, 3, 3, 3, 3, 3, 3, 3, 3, 3, 3, 3, 3, 3, 3, 3, 3, 3, 3, 3, 3, 3, 3, 3, 3, 3, 3, 3, 3, 3, 3, 3, 3, 3, 3, 3, 3, 3, 3, 3, 3, 3, 3, 3, 3, 3, 3, 3, 3, 3, 3, 3, 3, 3, 3, 3, 3, 3, 3, 3, 3, 3, 3, 3, 3, 3, 3, 3, 3, 3]\n"
     ]
    }
   ],
   "source": [
    "print(c[0])"
   ]
  },
  {
   "cell_type": "code",
   "execution_count": 15,
   "metadata": {},
   "outputs": [
    {
     "name": "stdout",
     "output_type": "stream",
     "text": [
      "[1, 1, 2, 0, 1, 1, 1, 2, 2, 0, 1, 0, 1, 1, 1, 1, 1, 1, 1, 1, 0, 3, 3, 3, 3, 3, 3, 3, 3, 3, 3, 3, 3, 3, 3, 3, 3, 3, 3, 3, 3, 3, 3, 3, 3, 3, 3, 3, 3, 3, 3, 3, 3, 3, 3, 3, 3, 3, 3, 3, 3, 3, 3, 3, 3, 3, 3, 3, 3, 3, 3, 3, 3, 3, 3, 3, 3, 3, 3, 3, 3, 3, 3, 3, 3, 3, 3, 3, 3, 3, 3, 3, 3, 3, 3, 3, 3, 3, 3, 3]\n"
     ]
    }
   ],
   "source": [
    "print(c_m[0])"
   ]
  },
  {
   "cell_type": "code",
   "execution_count": null,
   "metadata": {},
   "outputs": [],
   "source": []
  },
  {
   "cell_type": "code",
   "execution_count": 17,
   "metadata": {},
   "outputs": [],
   "source": [
    "train_data = load_json('/workspace/Guowei/project/nips2020/data/mlm_data/v01/big/train.json')"
   ]
  },
  {
   "cell_type": "code",
   "execution_count": 18,
   "metadata": {},
   "outputs": [
    {
     "name": "stdout",
     "output_type": "stream",
     "text": [
      "{'questions': [17222, 18292, 26149, 23281, 10885, 21363, 14261, 22013, 10848, 17212, 22161, 21222, 4773, 1183, 6834, 8439, 20668, 13512, 10179, 5194, 13037, 21074, 10365, 21922, 23214, 6313, 17243, 21557, 24553, 11529, 12189, 16712, 20822, 11802, 11481, 1555, 5358, 25774, 23342, 24185, 26550, 3120, 17092, 26852, 7152, 10068, 1847, 18467, 5944, 13563, 3565, 12245, 12314, 11183, 23711, 23264, 9428, 1201, 22178, 12041, 19937, 20770, 25215, 7217, 17246], 'corrects': [0, 0, 1, 0, 0, 0, 1, 0, 0, 0, 1, 0, 0, 0, 1, 1, 0, 1, 1, 1, 0, 1, 0, 1, 1, 1, 1, 1, 1, 0, 1, 1, 1, 1, 1, 1, 0, 0, 0, 1, 1, 0, 0, 0, 0, 1, 1, 1, 1, 1, 1, 1, 1, 1, 1, 1, 1, 0, 1, 1, 1, 1, 1, 1, 0]}\n"
     ]
    }
   ],
   "source": [
    "print(train_data[0])"
   ]
  },
  {
   "cell_type": "code",
   "execution_count": null,
   "metadata": {},
   "outputs": [],
   "source": [
    "# save_json(train, '/workspace/Guowei/project/nips2020/data/mlm_data/big/train.json')\n",
    "# save_json(valid, '/workspace/Guowei/project/nips2020/data/mlm_data/big/valid.json')"
   ]
  },
  {
   "cell_type": "code",
   "execution_count": null,
   "metadata": {},
   "outputs": [],
   "source": [
    "# save_json(train[:100], '/workspace/Guowei/project/nips2020/data/mlm_data/small/train.json')\n",
    "# save_json(valid[:100], '/workspace/Guowei/project/nips2020/data/mlm_data/small/valid.json')"
   ]
  },
  {
   "cell_type": "code",
   "execution_count": null,
   "metadata": {},
   "outputs": [],
   "source": [
    "import numpy as np\n",
    "import copy\n",
    "\n"
   ]
  },
  {
   "cell_type": "code",
   "execution_count": null,
   "metadata": {},
   "outputs": [],
   "source": [
    "len(valid_tuple[0][0])"
   ]
  },
  {
   "cell_type": "code",
   "execution_count": null,
   "metadata": {},
   "outputs": [],
   "source": [
    "print(question)"
   ]
  },
  {
   "cell_type": "code",
   "execution_count": null,
   "metadata": {},
   "outputs": [],
   "source": [
    "primary = pd.read_csv('/workspace/Guowei/project/nips2020/data/public_data/train_task_1_2.csv')\n",
    "answer = pd.read_csv('/workspace/Guowei/project/nips2020/data/public_data/metadata/answer_metadata_task_1_2.csv')[['AnswerId', 'DateAnswered']]"
   ]
  },
  {
   "cell_type": "code",
   "execution_count": null,
   "metadata": {},
   "outputs": [],
   "source": [
    "primary.head(2)"
   ]
  },
  {
   "cell_type": "code",
   "execution_count": null,
   "metadata": {},
   "outputs": [],
   "source": [
    "max(primary['QuestionId'])"
   ]
  },
  {
   "cell_type": "code",
   "execution_count": null,
   "metadata": {},
   "outputs": [],
   "source": [
    "min(primary['QuestionId'])"
   ]
  },
  {
   "cell_type": "code",
   "execution_count": null,
   "metadata": {},
   "outputs": [],
   "source": [
    "data = primary.merge(right=answer, on='AnswerId', how='left')\n",
    "data = data.dropna(subset=['QuestionId', 'UserId', 'IsCorrect', 'DateAnswered'])"
   ]
  },
  {
   "cell_type": "code",
   "execution_count": null,
   "metadata": {},
   "outputs": [],
   "source": [
    "def create_sequence_data(df):\n",
    "    all_students = list(set(df['UserId']))\n",
    "    n = len(all_students)\n",
    "\n",
    "    data_lst = []\n",
    "    for i, student_id in enumerate(all_students):\n",
    "        sample = df[df['UserId']==student_id]\n",
    "        sample = sample.sort_values(by=['DateAnswered'])\n",
    "        q_seq = list(sample['QuestionId'])\n",
    "        a_seq = list(sample['IsCorrect'])\n",
    "        if(len(a_seq)==len(q_seq) and len(a_seq)>3):\n",
    "            example = {'num_steps' : len(a_seq), 'question' : q_seq, 'response' : a_seq}\n",
    "            data_lst.append(example)\n",
    "        if(i%5000==0):\n",
    "            print('Done {} students out of {}'.format(i, n))\n",
    "    return data_lst"
   ]
  },
  {
   "cell_type": "code",
   "execution_count": null,
   "metadata": {},
   "outputs": [],
   "source": []
  },
  {
   "cell_type": "code",
   "execution_count": null,
   "metadata": {},
   "outputs": [],
   "source": [
    "data = load_json('/workspace/Guowei/project/nips2020/data/public_data/sequence_data/all_sequence.json')"
   ]
  },
  {
   "cell_type": "code",
   "execution_count": null,
   "metadata": {},
   "outputs": [],
   "source": [
    "len(data)"
   ]
  },
  {
   "cell_type": "code",
   "execution_count": null,
   "metadata": {},
   "outputs": [],
   "source": [
    "def cut_long_sequence(data, max_num_steps=50):\n",
    "    new_data = []\n",
    "    for item in data:\n",
    "        question = item['question']\n",
    "        response = item['response']\n",
    "        \n",
    "        if(item['num_steps']>max_num_steps):\n",
    "            tmp = int(item['num_steps'] / max_num_steps)\n",
    "            st = 0\n",
    "            while(st<item['num_steps']):\n",
    "                ed = st + max_num_steps\n",
    "                this_question = question[st:ed]\n",
    "                this_response = response[st:ed]\n",
    "                example = {'num_steps' : len(this_question), 'question' : this_question, 'response' : this_response}\n",
    "                st += max_num_steps\n",
    "                new_data.append(example)\n",
    "        else:\n",
    "            new_data.append(item)\n",
    "    return new_data"
   ]
  },
  {
   "cell_type": "code",
   "execution_count": null,
   "metadata": {},
   "outputs": [],
   "source": [
    "all_q = [x['corrects'] for x in train]"
   ]
  },
  {
   "cell_type": "code",
   "execution_count": null,
   "metadata": {},
   "outputs": [],
   "source": [
    "for item in all_q:\n",
    "    if(2 in item):\n",
    "        print(item)"
   ]
  },
  {
   "cell_type": "code",
   "execution_count": null,
   "metadata": {},
   "outputs": [],
   "source": [
    "0 in item"
   ]
  },
  {
   "cell_type": "code",
   "execution_count": null,
   "metadata": {},
   "outputs": [],
   "source": []
  },
  {
   "cell_type": "code",
   "execution_count": null,
   "metadata": {},
   "outputs": [],
   "source": [
    "def apply_masking(is_correct_seq, chance, mask_token):\n",
    "    '''\n",
    "    args:\n",
    "    is_correct_seq: 2d list, 做题信息正误矩阵，大小为[batch_size, num_steps], value in [0, 1]\n",
    "\n",
    "    returns:\n",
    "    is_correct_seq_masked : 被部分masked后的正误矩阵\n",
    "    masked_labels：被masked掉的位置的原始正误标签，一维向量\n",
    "    '''\n",
    "\n",
    "    is_correct_seq_masked = copy.deepcopy(is_correct_seq)\n",
    "    masked_labels = []\n",
    "    for i in range(len(is_correct_seq)):\n",
    "        for j in range(len(is_correct_seq[i])):\n",
    "            p = np.random.uniform()\n",
    "            if(p<=chance):\n",
    "                masked_labels.append(is_correct_seq[i][j])\n",
    "                is_correct_seq_masked[i][j] = mask_token\n",
    "    print('掩码了{}个token'.format(len(masked_labels)))\n",
    "    return is_correct_seq_masked, masked_labels"
   ]
  },
  {
   "cell_type": "code",
   "execution_count": null,
   "metadata": {},
   "outputs": [],
   "source": [
    "is_correct_seq = [x['corrects'] for x in valid]\n",
    "chance = 0.2\n",
    "mask_token = 2"
   ]
  },
  {
   "cell_type": "code",
   "execution_count": null,
   "metadata": {},
   "outputs": [],
   "source": [
    "is_correct_seq_masked, masked_labels = apply_masking(is_correct_seq, chance, mask_token)"
   ]
  },
  {
   "cell_type": "code",
   "execution_count": null,
   "metadata": {},
   "outputs": [],
   "source": [
    "print(len(masked_labels))"
   ]
  },
  {
   "cell_type": "code",
   "execution_count": null,
   "metadata": {},
   "outputs": [],
   "source": [
    "count = 0\n",
    "for i in range(len(is_correct_seq_masked)):\n",
    "    for j in range(len(is_correct_seq_masked[i])):\n",
    "        if(is_correct_seq_masked[i][j]==mask_token):\n",
    "            count += 1\n",
    "print(count)"
   ]
  },
  {
   "cell_type": "code",
   "execution_count": null,
   "metadata": {},
   "outputs": [],
   "source": [
    "device = 'cpu'\n",
    "import torch"
   ]
  },
  {
   "cell_type": "code",
   "execution_count": null,
   "metadata": {},
   "outputs": [],
   "source": []
  },
  {
   "cell_type": "code",
   "execution_count": null,
   "metadata": {},
   "outputs": [],
   "source": [
    "max_num_steps = 100\n",
    "is_correct_seq_masked = [pad(x, max_num_steps) for x in is_correct_seq_masked]\n",
    "\n",
    "is_correct_seq_masked = torch.tensor(is_correct_seq_masked).to(device)"
   ]
  },
  {
   "cell_type": "code",
   "execution_count": null,
   "metadata": {},
   "outputs": [],
   "source": [
    "is_correct_seq_masked.shape"
   ]
  },
  {
   "cell_type": "code",
   "execution_count": null,
   "metadata": {},
   "outputs": [],
   "source": [
    "logits = torch.tensor(np.random.uniform(size=(21363, 100, 2)))"
   ]
  },
  {
   "cell_type": "code",
   "execution_count": null,
   "metadata": {},
   "outputs": [],
   "source": [
    "mlm_mask = (is_correct_seq_masked==mask_token).long()\n",
    "# 只把被mask的地方的logits抽出来\n",
    "masked_logits = logits[mlm_mask==1] # shape=[num_masks_in_data, num_labels]"
   ]
  },
  {
   "cell_type": "code",
   "execution_count": null,
   "metadata": {},
   "outputs": [],
   "source": [
    "masked_logits.shape"
   ]
  },
  {
   "cell_type": "code",
   "execution_count": null,
   "metadata": {},
   "outputs": [],
   "source": [
    "mlm_mask"
   ]
  },
  {
   "cell_type": "code",
   "execution_count": null,
   "metadata": {},
   "outputs": [],
   "source": [
    "tmp = [[1, 1, 1, 2, 1, 1, 1, 0, 2, 2, 1, 2, 2, 1, 1, 1, 1, 1, 1, 1, 0, 0, 0, 0,\n",
    "         0, 0, 0, 0, 0, 0, 0, 0, 0, 0, 0, 0, 0, 0, 0, 0, 0, 0, 0, 0, 0, 0, 0, 0,\n",
    "         0, 0, 0, 0, 0, 0, 0, 0, 0, 0, 0, 0, 0, 0, 0, 0, 0, 0, 0, 0, 0, 0, 0, 0,\n",
    "         0, 0, 0, 0, 0, 0, 0, 0, 0, 0, 0, 0, 0, 0, 0, 0, 0, 0, 0, 0, 0, 0, 0, 0,\n",
    "         0, 0, 0, 0],\n",
    "        [1, 1, 0, 0, 1, 1, 1, 1, 1, 1, 1, 0, 1, 1, 1, 1, 1, 1, 1, 1, 2, 2, 1, 0,\n",
    "         1, 0, 2, 1, 1, 0, 0, 2, 1, 1, 0, 1, 1, 1, 1, 1, 1, 2, 1, 2, 1, 1, 1, 1,\n",
    "         1, 0, 1, 2, 1, 0, 0, 2, 0, 0, 1, 2, 1, 1, 1, 1, 1, 1, 1, 1, 1, 0, 1, 1,\n",
    "         1, 0, 1, 2, 1, 1, 0, 0, 1, 1, 2, 1, 1, 1, 1, 0, 1, 0, 0, 0, 0, 0, 0, 0,\n",
    "         0, 0, 0, 0],\n",
    "        [2, 1, 1, 1, 1, 0, 1, 1, 1, 0, 1, 1, 1, 1, 1, 1, 1, 1, 1, 0, 1, 1, 1, 1,\n",
    "         1, 1, 1, 1, 1, 1, 1, 1, 1, 2, 1, 1, 1, 1, 0, 1, 0, 2, 0, 1, 2, 1, 1, 1,\n",
    "         1, 2, 1, 0, 1, 2, 1, 1, 1, 1, 1, 0, 1, 1, 1, 1, 0, 1, 0, 1, 1, 2, 2, 1,\n",
    "         2, 1, 1, 0, 1, 0, 2, 1, 1, 2, 1, 1, 1, 1, 0, 0, 0, 0, 0, 0, 0, 0, 0, 0,\n",
    "         0, 0, 0, 0],\n",
    "        [1, 1, 1, 1, 1, 1, 2, 1, 1, 0, 2, 1, 1, 0, 1, 0, 1, 0, 1, 1, 1, 0, 2, 0,\n",
    "         2, 0, 1, 1, 1, 0, 0, 1, 1, 1, 1, 1, 2, 1, 1, 1, 0, 1, 0, 1, 1, 0, 1, 2,\n",
    "         2, 1, 2, 1, 1, 1, 1, 2, 1, 1, 2, 0, 1, 0, 1, 1, 0, 1, 2, 1, 1, 0, 0, 1,\n",
    "         1, 0, 1, 0, 0, 0, 0, 1, 0, 1, 1, 0, 0, 1, 0, 0, 2, 2, 0, 0, 2, 0, 2, 0,\n",
    "         1, 2, 1, 1],\n",
    "        [1, 1, 1, 2, 1, 1, 1, 1, 2, 1, 1, 1, 1, 1, 1, 1, 1, 1, 1, 1, 1, 1, 2, 1,\n",
    "         1, 1, 1, 1, 1, 1, 2, 2, 1, 1, 1, 1, 0, 1, 1, 1, 1, 1, 1, 1, 1, 1, 1, 1,\n",
    "         1, 1, 1, 1, 1, 1, 1, 1, 1, 1, 1, 1, 2, 1, 2, 2, 1, 1, 1, 1, 1, 0, 0, 0,\n",
    "         0, 0, 0, 0, 0, 0, 0, 0, 0, 0, 0, 0, 0, 0, 0, 0, 0, 0, 0, 0, 0, 0, 0, 0,\n",
    "         0, 0, 0, 0]]"
   ]
  },
  {
   "cell_type": "code",
   "execution_count": null,
   "metadata": {},
   "outputs": [],
   "source": [
    "count = 0\n",
    "for i in range(len(tmp)):\n",
    "    for j in range(len(tmp[i])):\n",
    "        if(tmp[i][j]==mask_token):\n",
    "            count += 1\n",
    "print(count)"
   ]
  },
  {
   "cell_type": "code",
   "execution_count": null,
   "metadata": {},
   "outputs": [],
   "source": [
    "from train import preprocess_data, load_json"
   ]
  },
  {
   "cell_type": "code",
   "execution_count": null,
   "metadata": {},
   "outputs": [],
   "source": [
    "max_num_steps = 100\n",
    "valid_data = load_json('/workspace/Guowei/project/nips2020/data/mlm_data/big/valid.json')\n",
    "usable_valid_data = preprocess_data(valid_data, max_num_steps)"
   ]
  },
  {
   "cell_type": "code",
   "execution_count": null,
   "metadata": {},
   "outputs": [],
   "source": [
    "c_mask = usable_valid_data[2]\n",
    "count, total = 0, 0\n",
    "for i in range(len(c_mask)):\n",
    "    for j in c_mask[i]:\n",
    "        if(j==2):\n",
    "            count += 1\n",
    "        elif(j==0 or j==1):\n",
    "            total += 1"
   ]
  },
  {
   "cell_type": "code",
   "execution_count": null,
   "metadata": {},
   "outputs": [],
   "source": [
    "count"
   ]
  },
  {
   "cell_type": "code",
   "execution_count": null,
   "metadata": {},
   "outputs": [],
   "source": [
    "count / total"
   ]
  },
  {
   "cell_type": "code",
   "execution_count": null,
   "metadata": {},
   "outputs": [],
   "source": []
  },
  {
   "cell_type": "code",
   "execution_count": null,
   "metadata": {},
   "outputs": [],
   "source": [
    "save_pickle(usable_valid_data, '/workspace/Guowei/project/nips2020/data/mlm_data/big/static_usable_valid.pkl')"
   ]
  },
  {
   "cell_type": "code",
   "execution_count": null,
   "metadata": {},
   "outputs": [],
   "source": [
    "c_mask"
   ]
  },
  {
   "cell_type": "code",
   "execution_count": null,
   "metadata": {},
   "outputs": [],
   "source": []
  }
 ],
 "metadata": {
  "kernelspec": {
   "display_name": "Python 3",
   "language": "python",
   "name": "python3"
  },
  "language_info": {
   "codemirror_mode": {
    "name": "ipython",
    "version": 3
   },
   "file_extension": ".py",
   "mimetype": "text/x-python",
   "name": "python",
   "nbconvert_exporter": "python",
   "pygments_lexer": "ipython3",
   "version": "3.7.5"
  }
 },
 "nbformat": 4,
 "nbformat_minor": 4
}
