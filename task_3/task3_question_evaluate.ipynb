{
 "cells": [
  {
   "cell_type": "code",
   "execution_count": 1,
   "metadata": {},
   "outputs": [],
   "source": [
    "import pandas as pd\n",
    "import scipy as sp\n",
    "from scipy.stats import multinomial\n",
    "import os\n",
    "import numpy as np\n",
    "import math"
   ]
  },
  {
   "cell_type": "code",
   "execution_count": 2,
   "metadata": {},
   "outputs": [],
   "source": [
    "def entropy(c):\n",
    "    # calculate entropy\n",
    "    result=-1\n",
    "    if(len(c)>0):\n",
    "        result=0\n",
    "    for x in c:\n",
    "        result+=(-x)*math.log(x,2)\n",
    "    return result"
   ]
  },
  {
   "cell_type": "code",
   "execution_count": 4,
   "metadata": {},
   "outputs": [],
   "source": [
    "# load the training data\n",
    "df = pd.read_csv('../train_data/train_task_3_4.csv')\n",
    "# load side information\n",
    "answer_meta_data = pd.read_csv('../metadata/answer_metadata_task_3_4.csv')\n",
    "question_meta_data = pd.read_csv('../metadata/question_metadata_task_3_4.csv')\n",
    "student_meta_data = pd.read_csv('../metadata/student_metadata_task_3_4.csv')"
   ]
  },
  {
   "cell_type": "code",
   "execution_count": 5,
   "metadata": {},
   "outputs": [],
   "source": [
    "# load the submission csv file\n",
    "submission_file = pd.read_csv('../starter_kit/submission_templates/submission_task_3.csv')"
   ]
  },
  {
   "cell_type": "markdown",
   "metadata": {},
   "source": [
    "### calculate the entropy of choice"
   ]
  },
  {
   "cell_type": "code",
   "execution_count": 8,
   "metadata": {},
   "outputs": [],
   "source": [
    "choice_entropy = df.groupby('QuestionId')['AnswerValue'].agg(lambda x:multinomial.entropy(1, x.value_counts(normalize=True)))\n",
    "submission_file['entropy_choice'] = choice_entropy\n",
    "submission_file['z_entropy_choice'] = (submission_file['entropy_choice']-np.mean(submission_file['entropy_choice']))/np.std(submission_file['entropy_choice'])"
   ]
  },
  {
   "cell_type": "markdown",
   "metadata": {},
   "source": [
    "### calculate the question confidence"
   ]
  },
  {
   "cell_type": "code",
   "execution_count": 7,
   "metadata": {},
   "outputs": [],
   "source": [
    "new_df = df.merge(answer_meta_data, on='AnswerId', how='left')\n",
    "notnull_confidence = new_df[new_df['Confidence'].notnull()]\n",
    "que_num = notnull_confidence.groupby('QuestionId')['QuestionId'].agg(lambda x: len(x))\n",
    "num_confid = {}\n",
    "for i in que_num.index:\n",
    "    num_confid[i] = que_num[i]\n",
    "valid_que = []\n",
    "for key, value in num_confid.items():\n",
    "    if value < 20:\n",
    "        pass\n",
    "    else:\n",
    "        valid_que.append(key)\n",
    "notnull_confidence = notnull_confidence[notnull_confidence['QuestionId'].isin(valid_que)]\n",
    "que_avg_confid = {}\n",
    "for idx in notnull_confidence['QuestionId'].unique():\n",
    "    cut = notnull_confidence[notnull_confidence['QuestionId']==idx]\n",
    "    que_avg_confid[idx] = cut['Confidence'].mean()\n",
    "all_que_confid = list(que_avg_confid.values())\n",
    "submission_file['confidence'] = submission_file['QuestionId'].apply(lambda x: que_avg_confid[x] if x in que_avg_confid else np.mean(all_que_confid))\n",
    "submission_file['z_confidence'] = (submission_file['confidence']-np.mean(submission_file['confidence']))/np.std(submission_file['confidence'])"
   ]
  },
  {
   "cell_type": "markdown",
   "metadata": {},
   "source": [
    "### calculate the answer right&wrong entropy"
   ]
  },
  {
   "cell_type": "code",
   "execution_count": 9,
   "metadata": {},
   "outputs": [],
   "source": [
    "right_entropy = df.groupby('QuestionId')['IsCorrect'].agg(lambda x: multinomial.entropy(1, x.value_counts(normalize=True)))\n",
    "submission_file['right_entropy'] = right_entropy\n",
    "submission_file['z_entropy_right'] = (submission_file['right_entropy']-np.mean(submission_file['right_entropy']))/np.std(submission_file['right_entropy'])"
   ]
  },
  {
   "cell_type": "markdown",
   "metadata": {},
   "source": [
    "### calculate the entropy conditioned on group\n",
    "H(right&wrong | group)"
   ]
  },
  {
   "cell_type": "code",
   "execution_count": 11,
   "metadata": {},
   "outputs": [],
   "source": [
    "def get_one_condition_entropy(one_df):\n",
    "    some_res = one_df.groupby('GroupId')['IsCorrect'].agg(lambda x: multinomial.entropy(1, x.value_counts(normalize=True)))\n",
    "    one_score = 0\n",
    "    for one_group_idx in some_res.index:\n",
    "        cut_df = one_df[one_df['GroupId']==one_group_idx]\n",
    "        one_score += some_res[one_group_idx] * (cut_df.shape[0]/one_df.shape[0])\n",
    "    return one_score"
   ]
  },
  {
   "cell_type": "code",
   "execution_count": 12,
   "metadata": {},
   "outputs": [],
   "source": [
    "cond_right_group_entropy = {}\n",
    "for one_que_id in new_df.QuestionId.unique():\n",
    "    one_df = new_df[new_df['QuestionId']==one_que_id]\n",
    "    # 计算conditional entropy\n",
    "    cond_right_group_entropy[one_que_id] = get_one_condition_entropy(one_df)\n",
    "submission_file['cond_entropy_group'] = submission_file['QuestionId'].apply(lambda x: cond_right_group_entropy[x])\n",
    "submission_file['z_cond_entropy'] = (submission_file['cond_entropy_group']-submission_file['cond_entropy_group'].mean())/submission_file['cond_entropy_group'].std()"
   ]
  },
  {
   "cell_type": "markdown",
   "metadata": {},
   "source": [
    "### calculate the entropy conditioned on quiz"
   ]
  },
  {
   "cell_type": "code",
   "execution_count": 13,
   "metadata": {},
   "outputs": [],
   "source": [
    "def get_one_quiz_condition_entropy(one_df):\n",
    "    some_res = one_df.groupby('QuizId')['IsCorrect'].agg(lambda x: multinomial.entropy(1, x.value_counts(normalize=True)))\n",
    "    one_score = 0\n",
    "    for one_group_idx in some_res.index:\n",
    "        cut_df = one_df[one_df['QuizId']==one_group_idx]\n",
    "        one_score += some_res[one_group_idx] * (cut_df.shape[0]/one_df.shape[0])\n",
    "    return one_score\n",
    "cond_right_quiz_entropy = {}\n",
    "for one_que_id in new_df.QuestionId.unique():\n",
    "    one_df = new_df[new_df['QuestionId']==one_que_id]\n",
    "    # 计算conditional entropy\n",
    "    cond_right_quiz_entropy[one_que_id] = get_one_quiz_condition_entropy(one_df)\n",
    "submission_file['cond_entropy_quiz'] = submission_file['QuestionId'].apply(lambda x: cond_right_quiz_entropy[x])\n",
    "submission_file['z_cond_quiz_entropy'] = (submission_file['cond_entropy_quiz']-submission_file['cond_entropy_quiz'].mean())/submission_file['cond_entropy_quiz'].std()"
   ]
  },
  {
   "cell_type": "markdown",
   "metadata": {},
   "source": [
    "### final ranking"
   ]
  },
  {
   "cell_type": "code",
   "execution_count": 15,
   "metadata": {
    "scrolled": true
   },
   "outputs": [],
   "source": [
    "float0, float_1, float_2 = 0.7, 0.1, 1\n",
    "submission_file['final_score'] = submission_file['z_entropy_choice'] + float0*submission_file['z_cond_entropy'] + \\\n",
    "float_1* submission_file['z_cond_quiz_entropy'] + \\\n",
    "float_2*submission_file['z_entropy_right'] - submission_file['z_confidence']"
   ]
  },
  {
   "cell_type": "code",
   "execution_count": null,
   "metadata": {},
   "outputs": [],
   "source": [
    "ranking = submission_file['final_score'].rank(method='first', ascending=False).astype('int16')\n",
    "submission_file['ranking'] = ranking\n",
    "submission_file[['QuestionId','ranking']].to_csv('../submissions/final_report.csv',index=False)\n",
    "first_try = pd.read_csv('../submissions/final_report.csv')\n",
    "first_try_zip = first_try.sort_values(\"ranking\", ascending=True)\n",
    "first_try_zip.to_csv('../submissions/submission_task_3_report.csv',index=False)"
   ]
  },
  {
   "cell_type": "code",
   "execution_count": null,
   "metadata": {},
   "outputs": [],
   "source": []
  },
  {
   "cell_type": "code",
   "execution_count": null,
   "metadata": {},
   "outputs": [],
   "source": []
  },
  {
   "cell_type": "code",
   "execution_count": null,
   "metadata": {},
   "outputs": [],
   "source": []
  },
  {
   "cell_type": "code",
   "execution_count": null,
   "metadata": {},
   "outputs": [],
   "source": []
  },
  {
   "cell_type": "code",
   "execution_count": null,
   "metadata": {},
   "outputs": [],
   "source": []
  },
  {
   "cell_type": "code",
   "execution_count": null,
   "metadata": {},
   "outputs": [],
   "source": []
  },
  {
   "cell_type": "code",
   "execution_count": null,
   "metadata": {},
   "outputs": [],
   "source": []
  },
  {
   "cell_type": "code",
   "execution_count": null,
   "metadata": {},
   "outputs": [],
   "source": []
  }
 ],
 "metadata": {
  "kernelspec": {
   "display_name": "atc_gpu",
   "language": "python",
   "name": "atc_gpu"
  },
  "language_info": {
   "codemirror_mode": {
    "name": "ipython",
    "version": 3
   },
   "file_extension": ".py",
   "mimetype": "text/x-python",
   "name": "python",
   "nbconvert_exporter": "python",
   "pygments_lexer": "ipython3",
   "version": "3.7.5"
  },
  "toc": {
   "base_numbering": 1,
   "nav_menu": {},
   "number_sections": true,
   "sideBar": true,
   "skip_h1_title": false,
   "title_cell": "Table of Contents",
   "title_sidebar": "Contents",
   "toc_cell": false,
   "toc_position": {},
   "toc_section_display": true,
   "toc_window_display": false
  }
 },
 "nbformat": 4,
 "nbformat_minor": 4
}
